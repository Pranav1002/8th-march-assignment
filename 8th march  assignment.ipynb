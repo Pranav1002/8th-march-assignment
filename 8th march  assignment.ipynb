{
 "cells": [
  {
   "cell_type": "markdown",
   "id": "4321dc1c-c471-4774-bb97-efe9b6162914",
   "metadata": {},
   "source": [
    "# Q1. What is the Probability density function?\n",
    "\n",
    "--->a probability density function (PDF) is a function whose value at any given sample (or point) in the sample space can be interpreted as providing a relative likelihood that the value of the random variable would be equal to that sample."
   ]
  },
  {
   "cell_type": "markdown",
   "id": "ac8881a1-8bca-43d8-bbca-960ceb073511",
   "metadata": {},
   "source": [
    "  "
   ]
  },
  {
   "cell_type": "markdown",
   "id": "e0a8d101-1094-4206-a7c4-2e01820ebffa",
   "metadata": {},
   "source": [
    "# Q2. What are the types of Probability distribution?\n",
    "\n",
    "---> Here are given types of probability distribution.\n",
    "\n",
    "1) Noraml Distribution\n",
    "\n",
    "2) Bernoui Distribution\n",
    "\n",
    "3) Uniform Distribution\n",
    "\n",
    "4) Possion Distribution\n",
    "\n",
    "5) Log Noraml Distribution\n",
    "\n",
    "6) Binomial Distribution"
   ]
  },
  {
   "cell_type": "markdown",
   "id": "91b3589b-2e75-4151-8105-1251893acbb9",
   "metadata": {},
   "source": [
    "  "
   ]
  },
  {
   "cell_type": "markdown",
   "id": "2f9869e3-b572-4336-bea6-efe55aaad09d",
   "metadata": {},
   "source": [
    "# Q3. Write a Python function to calculate the probability density function of a normal distribution with given mean and standard deviation at a given point."
   ]
  },
  {
   "cell_type": "code",
   "execution_count": 6,
   "id": "d9569a68-b287-470e-ba94-11adb94d53ca",
   "metadata": {},
   "outputs": [
    {
     "name": "stdout",
     "output_type": "stream",
     "text": [
      "0.12579440923099772\n",
      "0.12579440923099774\n"
     ]
    }
   ],
   "source": [
    "# Using formula  of pdf. \n",
    "\n",
    "import math\n",
    "\n",
    "def pdf1(x, mean, std):\n",
    "    variance = float(std)**2\n",
    "    denominator = (2*math.pi*variance)**.5\n",
    "    numerator = math.exp(-(float(x)-float(mean))**2/(2*variance))\n",
    "    return numerator/denominator\n",
    "\n",
    "# using scipy library\n",
    "\n",
    "from scipy.stats import norm\n",
    "\n",
    "def pdf2(x, mean, std):\n",
    "    return norm.pdf(x,mean,std)\n",
    "\n",
    "print(pdf1(1,2,3))\n",
    "\n",
    "print(pdf2(1,2,3))"
   ]
  },
  {
   "cell_type": "markdown",
   "id": "779d0f79-1d5a-46ba-a592-14e82c324804",
   "metadata": {},
   "source": [
    "  "
   ]
  },
  {
   "cell_type": "markdown",
   "id": "b08e2f0a-3cfa-475c-918f-ec51e324c41b",
   "metadata": {},
   "source": [
    "# Q4. What are the properties of Binomial distribution? Give two examples of events where binomial distribution can be applied.\n",
    "\n",
    "---> Binomial Distribution is used to model the number of successes in a fixed number of independent trials with a constant probability of success.\n",
    "\n",
    "---> The propertyies of Binomial Distribution is given below.\n",
    "\n",
    "* There are two possible outcomes: true or false, success or failure, yes or no.\n",
    "\n",
    "* There is ‘n’ number of independent trials or a fixed number of n times repeated trials.\n",
    "\n",
    "* The probability of success or failure remains the same for each trial.\n",
    "\n",
    "* Only the number of successes is counted.\n",
    "\n",
    "Ex:\n",
    "1) Tossing a coin where head is considered as success and tail as failure.\n",
    "\n",
    "2) Rolling a dice where even number is considered as success and odd number as failure."
   ]
  },
  {
   "cell_type": "markdown",
   "id": "e295570b-b8a3-4d04-a4ef-b4873208d9b4",
   "metadata": {},
   "source": [
    "  "
   ]
  },
  {
   "cell_type": "markdown",
   "id": "7b3e9ccf-9e82-4667-b919-d161aa487ab8",
   "metadata": {},
   "source": [
    "# Q5. Generate a random sample of size 1000 from a binomial distribution with probability of success 0.4 and plot a histogram of the results using matplotlib."
   ]
  },
  {
   "cell_type": "code",
   "execution_count": 16,
   "id": "a6eadc79-b5e7-47e8-b27a-de8a93a4812b",
   "metadata": {},
   "outputs": [
    {
     "data": {
      "text/plain": [
       "(array([  3.,  21.,  65., 147., 252., 232., 183.,  71.,  23.,   3.]),\n",
       " array([347. , 357.5, 368. , 378.5, 389. , 399.5, 410. , 420.5, 431. ,\n",
       "        441.5, 452. ]),\n",
       " <BarContainer object of 10 artists>)"
      ]
     },
     "execution_count": 16,
     "metadata": {},
     "output_type": "execute_result"
    },
    {
     "data": {
      "image/png": "[encoded data removed]",
      "text/plain": [
       "<Figure size 640x480 with 1 Axes>"
      ]
     },
     "metadata": {},
     "output_type": "display_data"
    }
   ],
   "source": [
    "import numpy as np\n",
    "import matplotlib.pyplot as plt\n",
    "\n",
    "data = np.random.binomial(1000, 0.4, size=1000)\n",
    "\n",
    "plt.hist(data)"
   ]
  },
  {
   "cell_type": "markdown",
   "id": "3929cd80-073e-4193-8b76-6b06a87dddeb",
   "metadata": {},
   "source": [
    "  "
   ]
  },
  {
   "cell_type": "markdown",
   "id": "1397c078-7222-4779-bc62-b788f4496a3e",
   "metadata": {},
   "source": [
    "# Q6. Write a Python function to calculate the cumulative distribution function of a Poisson distribution with given mean at a given point."
   ]
  },
  {
   "cell_type": "code",
   "execution_count": 18,
   "id": "b290ee79-db4e-460b-bff2-ef86a849c4a3",
   "metadata": {},
   "outputs": [
    {
     "name": "stdout",
     "output_type": "stream",
     "text": [
      "0.8152632445237722\n"
     ]
    }
   ],
   "source": [
    "from scipy.stats import poisson\n",
    "\n",
    "def cdf1(x, mean):\n",
    "    return poisson.cdf(x,mean)\n",
    "\n",
    "print(cdf1(4,3))"
   ]
  },
  {
   "cell_type": "markdown",
   "id": "d8709420-0e3f-4113-9330-6e5859133cbe",
   "metadata": {},
   "source": [
    "  "
   ]
  },
  {
   "cell_type": "markdown",
   "id": "f8e27679-0e1b-470d-9a88-1dd8b424d92f",
   "metadata": {},
   "source": [
    "# Q7. How Binomial distribution different from Poisson distribution?#\n",
    "\n",
    "---> Binomial distribution has a fixed number of trials while Poisson distribution has an infinite number of trials.\n",
    "\n",
    "---> In a binomial distribution, there are only two possible outcomes, i.e. success or failure. Conversely, there are an unlimited number of possible outcomes in the case of Poisson distribution.\n",
    "\n",
    "--->  In binomial distribution Mean > Variance while in Poisson distribution mean = variance."
   ]
  },
  {
   "cell_type": "markdown",
   "id": "ee31be1d-13c6-4e52-a117-8bcb4b60cbf6",
   "metadata": {},
   "source": [
    "  "
   ]
  },
  {
   "cell_type": "markdown",
   "id": "ccbc9074-3a20-4ba5-9bc3-8f34ce23bfcd",
   "metadata": {},
   "source": [
    "# Q8. Generate a random sample of size 1000 from a Poisson distribution with mean 5 and calculate the sample mean and variance."
   ]
  },
  {
   "cell_type": "code",
   "execution_count": 29,
   "id": "b0cb8f8e-eee8-449e-9825-2cd234701e79",
   "metadata": {},
   "outputs": [
    {
     "name": "stdout",
     "output_type": "stream",
     "text": [
      "Sample mean :  4.9916 \n",
      "Varience :  4.89172944\n"
     ]
    }
   ],
   "source": [
    "data1 = np.random.poisson(5, size=10000)\n",
    "\n",
    "var1 = data1.var()\n",
    "mean1 = data1.mean()\n",
    "\n",
    "print('Sample mean : ', mean1, '\\nVarience : ', var1)"
   ]
  },
  {
   "cell_type": "markdown",
   "id": "a1a156a2-13e6-417d-a402-c4e38f1f68bb",
   "metadata": {},
   "source": [
    "  "
   ]
  },
  {
   "cell_type": "markdown",
   "id": "c8606979-c797-4b97-9b98-26bc0286b2a8",
   "metadata": {},
   "source": [
    "# Q9. How mean and variance are related in Binomial distribution and Poisson distribution?\n",
    "\n",
    "---> In binomial distribution, the mean is greater than the variance while in Poisson distribution, the mean is equal to the variance."
   ]
  },
  {
   "cell_type": "markdown",
   "id": "b2e2a7ee-fe6e-4a61-a71d-0cf5452b1009",
   "metadata": {},
   "source": [
    "  "
   ]
  },
  {
   "cell_type": "markdown",
   "id": "d04318f6-0b80-43d8-89db-1636f74a5082",
   "metadata": {},
   "source": [
    "# Q10. In normal distribution with respect to mean position, where does the least frequent data appear?"
   ]
  }
 ],
 "metadata": {
  "kernelspec": {
   "display_name": "Python 3 (ipykernel)",
   "language": "python",
   "name": "python3"
  },
  "language_info": {
   "codemirror_mode": {
    "name": "ipython",
    "version": 3
   },
   "file_extension": ".py",
   "mimetype": "text/x-python",
   "name": "python",
   "nbconvert_exporter": "python",
   "pygments_lexer": "ipython3",
   "version": "3.10.6"
  }
 },
 "nbformat": 4,
 "nbformat_minor": 5
}
